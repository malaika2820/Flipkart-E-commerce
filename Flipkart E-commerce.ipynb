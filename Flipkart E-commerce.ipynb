{
 "cells": [
  {
   "cell_type": "code",
   "execution_count": 53,
   "metadata": {},
   "outputs": [],
   "source": [
    "import pandas as pd\n",
    "import matplotlib.pyplot as plt\n",
    "import seaborn as sns\n",
    "import numpy as np\n",
    "import nltk"
   ]
  },
  {
   "cell_type": "code",
   "execution_count": null,
   "metadata": {},
   "outputs": [],
   "source": [
    "nltk.download('punkt')\n",
    "nltk.download('stopwords')\n",
    "!pip install wordcloud\n",
    "nltk.download('wordnet')\n",
    "nltk.download('averaged_perceptron_tagger')"
   ]
  },
  {
   "cell_type": "code",
   "execution_count": 54,
   "metadata": {},
   "outputs": [],
   "source": [
    "from collections import Counter\n",
    "from nltk.corpus import stopwords\n",
    "from wordcloud import WordCloud, STOPWORDS\n",
    "from nltk.stem import WordNetLemmatizer"
   ]
  },
  {
   "cell_type": "code",
   "execution_count": 85,
   "metadata": {},
   "outputs": [],
   "source": [
    "df = pd.read_csv(\"Flipkart_data.csv\")"
   ]
  },
  {
   "cell_type": "code",
   "execution_count": 86,
   "metadata": {},
   "outputs": [
    {
     "data": {
      "text/plain": [
       "(20000, 15)"
      ]
     },
     "execution_count": 86,
     "metadata": {},
     "output_type": "execute_result"
    }
   ],
   "source": [
    "df.shape"
   ]
  },
  {
   "cell_type": "code",
   "execution_count": 87,
   "metadata": {},
   "outputs": [],
   "source": [
    "#Reducing the product category to base form\n",
    "'''\n",
    "The product category tree is a comprehensive categorisation of each of the data points. The primary category for each\n",
    "point is identified, and these are the values that will be predicted by the model.\n",
    "A new column named \"Category\" is made and contains the primary category corresponding to each data point. \n",
    "'''\n",
    "category = df['product_category_tree']\n",
    "main_category = []\n",
    "\n",
    "for i in category :\n",
    "    words = i.split()\n",
    "    if \">>\" in words : \n",
    "        index = words.index('>>')\n",
    "        nameOfCategory = words[0 : index]\n",
    "        nameOfCategory = \" \".join(nameOfCategory)\n",
    "    else :\n",
    "        nameOfCategory = \"none\"\n",
    "    \n",
    "    nameOfCategory = nameOfCategory.replace('[\"', '')\n",
    "    main_category.append(nameOfCategory)\n",
    "\n",
    "df = df.assign(Category = main_category)"
   ]
  },
  {
   "cell_type": "code",
   "execution_count": 80,
   "metadata": {},
   "outputs": [
    {
     "data": {
      "text/plain": [
       "Clothing                             6220\n",
       "Jewellery                            3531\n",
       "Footwear                             1227\n",
       "Mobiles & Accessories                1099\n",
       "Automotive                           1012\n",
       "Home Decor & Festive Needs            929\n",
       "Beauty and Personal Care              710\n",
       "Home Furnishing                       700\n",
       "Kitchen & Dining                      647\n",
       "Computers                             578\n",
       "Watches                               530\n",
       "Baby Care                             483\n",
       "Tools & Hardware                      391\n",
       "Toys & School Supplies                330\n",
       "Pens & Stationery                     313\n",
       "none                                  290\n",
       "Bags, Wallets & Belts                 276\n",
       "Furniture                             180\n",
       "Sports & Fitness                      170\n",
       "Cameras & Accessories                  82\n",
       "Home Improvement                       81\n",
       "Health & Personal Care Appliances      43\n",
       "Gaming                                 36\n",
       "Sunglasses                             35\n",
       "Pet Supplies                           30\n",
       "Home & Kitchen                         24\n",
       "Home Entertainment                     19\n",
       "eBooks                                 15\n",
       "Eyewear                                10\n",
       "Household Supplies                      4\n",
       "Food & Nutrition                        2\n",
       "Wearable Smart Devices                  2\n",
       "Automation & Robotics                   1\n",
       "Name: Category, dtype: int64"
      ]
     },
     "execution_count": 80,
     "metadata": {},
     "output_type": "execute_result"
    }
   ],
   "source": [
    "categories = df['Category'].value_counts()\n",
    "categories"
   ]
  },
  {
   "cell_type": "code",
   "execution_count": 58,
   "metadata": {},
   "outputs": [
    {
     "data": {
      "text/plain": [
       "<matplotlib.axes._subplots.AxesSubplot at 0x1f2a43e6408>"
      ]
     },
     "execution_count": 58,
     "metadata": {},
     "output_type": "execute_result"
    },
    {
     "data": {
      "image/png": "[encoded data removed]",
      "text/plain": [
       "<Figure size 432x288 with 1 Axes>"
      ]
     },
     "metadata": {
      "needs_background": "light"
     },
     "output_type": "display_data"
    }
   ],
   "source": [
    "#Plotting distinct values of an attribute against their count\n",
    "''' There are only two possible values for \"is_FK_Advantage_product\" - True and False\n",
    "19215 data points have a False value for this attribute and 785 products have a True value. Since a large majority of the\n",
    "data points have the same value, hence it will be difficult to distinguish the categories using this property. \n",
    "So this property will not contribute towards determining the product category.\n",
    "''' \n",
    "\n",
    "df['is_FK_Advantage_product'].value_counts().plot(kind = 'bar')"
   ]
  },
  {
   "cell_type": "code",
   "execution_count": 161,
   "metadata": {},
   "outputs": [
    {
     "data": {
      "image/png": "[encoded data removed]",
      "text/plain": [
       "<Figure size 432x288 with 1 Axes>"
      ]
     },
     "metadata": {
      "needs_background": "light"
     },
     "output_type": "display_data"
    }
   ],
   "source": [
    "df['Category'].value_counts().plot(kind = 'bar')"
   ]
  },
  {
   "cell_type": "code",
   "execution_count": 59,
   "metadata": {},
   "outputs": [
    {
     "data": {
      "text/plain": [
       "No rating available    18151\n",
       "5                        620\n",
       "4                        246\n",
       "1                        171\n",
       "3                        168\n",
       "2                         80\n",
       "4.5                       67\n",
       "3.7                       51\n",
       "4.2                       47\n",
       "3.5                       45\n",
       "4.3                       45\n",
       "3.6                       25\n",
       "4.7                       24\n",
       "4.1                       24\n",
       "2.5                       23\n",
       "3.8                       23\n",
       "4.8                       21\n",
       "3.2                       20\n",
       "3.3                       17\n",
       "4.4                       16\n",
       "3.9                       15\n",
       "3.4                       13\n",
       "2.3                       12\n",
       "2.8                       11\n",
       "2.7                       10\n",
       "4.6                        9\n",
       "2.2                        8\n",
       "3.1                        7\n",
       "2.4                        5\n",
       "2.9                        5\n",
       "1.7                        4\n",
       "4.9                        4\n",
       "1.5                        4\n",
       "1.3                        4\n",
       "2.6                        3\n",
       "1.8                        2\n",
       "Name: overall_rating, dtype: int64"
      ]
     },
     "execution_count": 59,
     "metadata": {},
     "output_type": "execute_result"
    }
   ],
   "source": [
    "#counting unique values in rating\n",
    "''' For both attributes - overall and product rating there are 18151 records which have no rating, and the rest of the\n",
    "data points have rating ranging from 5 to 1. Since a majority of data points do not have rating, hence these two attributes\n",
    "do not contribute to determining the category of a given product. \n",
    "'''\n",
    "\n",
    "df['product_rating'].value_counts()\n",
    "\n",
    "df['overall_rating'].value_counts()"
   ]
  },
  {
   "cell_type": "code",
   "execution_count": 60,
   "metadata": {},
   "outputs": [
    {
     "data": {
      "text/plain": [
       "Counter({'Clothing': 543,\n",
       "         'Footwear': 104,\n",
       "         'Bags, Wallets & Belts': 20,\n",
       "         'Baby Care': 67,\n",
       "         'Watches': 66,\n",
       "         'Toys & School Supplies': 6,\n",
       "         'none': 33,\n",
       "         'Pens & Stationery': 26,\n",
       "         'Mobiles & Accessories': 75,\n",
       "         'Computers': 53,\n",
       "         'Jewellery': 133,\n",
       "         'Home Decor & Festive Needs': 36,\n",
       "         'Automotive': 10,\n",
       "         'Beauty and Personal Care': 6,\n",
       "         'Home Improvement': 1,\n",
       "         'Gaming': 4,\n",
       "         'Health & Personal Care Appliances': 4,\n",
       "         'Cameras & Accessories': 4,\n",
       "         'Kitchen & Dining': 8,\n",
       "         'Sunglasses': 7,\n",
       "         'Sports & Fitness': 4,\n",
       "         'Tools & Hardware': 13,\n",
       "         'Home Furnishing': 59,\n",
       "         'Wearable Smart Devices': 1,\n",
       "         'Home Entertainment': 2,\n",
       "         'Pet Supplies': 1})"
      ]
     },
     "execution_count": 60,
     "metadata": {},
     "output_type": "execute_result"
    }
   ],
   "source": [
    "#Retail price\n",
    "'''\n",
    "Taking a random value from retail price column(eg - value of maximum frequency retail price 999.0 in this case), \n",
    "and for all the data points their categories are stored in a varibale category_max_freq\n",
    "Using a Counter, we see that the same retail price value can belong to a whole variety of categories.\n",
    "Hence, retail price is not a good determinant for category.\n",
    "'''\n",
    "max_freq_retail = df['retail_price'].value_counts().keys()[0]\n",
    "category_max_freq = df['Category'].loc[df['retail_price'] == max_freq_retail]\n",
    "Counter(category_max_freq)"
   ]
  },
  {
   "cell_type": "code",
   "execution_count": 88,
   "metadata": {},
   "outputs": [],
   "source": [
    "#Removing columns which do not contribute to determining the category of a product\n",
    "'''\n",
    "The columns below do not contribute signficantly in determining the category of a product, as the values are either to \n",
    "discrete and random or a large majority of the data points have the same value for these attributes. Hence they are \n",
    "removed from the data frame.\n",
    "\n",
    "The main column used to identify the category of a data point is description. Additional columns such as\n",
    "-> product name\n",
    "-> brand\n",
    "-> pid\n",
    "-> product specification\n",
    "will be analyzed, and if by addition of these columns the accuracy of our model increases, then these attributes will also\n",
    "be considered to determine the category of a data point.\n",
    "\n",
    "'''\n",
    "df = df.drop([\"product_rating\", \"overall_rating\", \"crawl_timestamp\", \"product_url\", \"uniq_id\", \"retail_price\", \"discounted_price\", \"is_FK_Advantage_product\", \"image\"], axis = 1)"
   ]
  },
  {
   "cell_type": "code",
   "execution_count": 162,
   "metadata": {},
   "outputs": [
    {
     "data": {
      "text/plain": [
       "Index(['product_name', 'product_category_tree', 'pid', 'description', 'brand',\n",
       "       'product_specifications', 'Category'],\n",
       "      dtype='object')"
      ]
     },
     "execution_count": 162,
     "metadata": {},
     "output_type": "execute_result"
    }
   ],
   "source": [
    "df.columns"
   ]
  },
  {
   "cell_type": "code",
   "execution_count": 163,
   "metadata": {},
   "outputs": [
    {
     "data": {
      "text/plain": [
       "<matplotlib.axes._subplots.AxesSubplot at 0x1f2afc1b608>"
      ]
     },
     "execution_count": 163,
     "metadata": {},
     "output_type": "execute_result"
    },
    {
     "data": {
      "image/png": "[encoded data removed]",
      "text/plain": [
       "<Figure size 432x288 with 1 Axes>"
      ]
     },
     "metadata": {
      "needs_background": "light"
     },
     "output_type": "display_data"
    }
   ],
   "source": [
    "df['brand'].value_counts().plot(kind = 'bar')"
   ]
  },
  {
   "cell_type": "code",
   "execution_count": 89,
   "metadata": {},
   "outputs": [
    {
     "data": {
      "text/plain": [
       "product_name              19998\n",
       "product_category_tree     19998\n",
       "pid                       19998\n",
       "description               19998\n",
       "brand                     14135\n",
       "product_specifications    19984\n",
       "Category                  19998\n",
       "dtype: int64"
      ]
     },
     "execution_count": 89,
     "metadata": {},
     "output_type": "execute_result"
    }
   ],
   "source": [
    "#dropping rows with missing description\n",
    "df = df.dropna(axis = 0, subset = ['description'])\n",
    "df.count()"
   ]
  },
  {
   "cell_type": "code",
   "execution_count": null,
   "metadata": {},
   "outputs": [],
   "source": [
    "''' Text Processing :\n",
    "1. Removing punctuation\n",
    "2. Converting each sample into tokens\n",
    "3. Removing the stop words\n",
    "4. Preprocessing Data: Using a Lemmatizer\n",
    "5. Saving the cleaned data\n",
    "'''"
   ]
  },
  {
   "cell_type": "code",
   "execution_count": 65,
   "metadata": {},
   "outputs": [
    {
     "data": {
      "text/html": [
       "<div>\n",
       "<style scoped>\n",
       "    .dataframe tbody tr th:only-of-type {\n",
       "        vertical-align: middle;\n",
       "    }\n",
       "\n",
       "    .dataframe tbody tr th {\n",
       "        vertical-align: top;\n",
       "    }\n",
       "\n",
       "    .dataframe thead th {\n",
       "        text-align: right;\n",
       "    }\n",
       "</style>\n",
       "<table border=\"1\" class=\"dataframe\">\n",
       "  <thead>\n",
       "    <tr style=\"text-align: right;\">\n",
       "      <th></th>\n",
       "      <th>product_name</th>\n",
       "      <th>product_category_tree</th>\n",
       "      <th>pid</th>\n",
       "      <th>description</th>\n",
       "      <th>brand</th>\n",
       "      <th>product_specifications</th>\n",
       "      <th>Category</th>\n",
       "    </tr>\n",
       "  </thead>\n",
       "  <tbody>\n",
       "    <tr>\n",
       "      <td>0</td>\n",
       "      <td>Alisha Solid Women's Cycling Shorts</td>\n",
       "      <td>[\"Clothing &gt;&gt; Women's Clothing &gt;&gt; Lingerie, Sl...</td>\n",
       "      <td>SRTEH2FF9KEDEFGF</td>\n",
       "      <td>Key Features of Alisha Solid Womens Cycling Sh...</td>\n",
       "      <td>Alisha</td>\n",
       "      <td>{\"product_specification\"=&gt;[{\"key\"=&gt;\"Number of ...</td>\n",
       "      <td>Clothing</td>\n",
       "    </tr>\n",
       "    <tr>\n",
       "      <td>1</td>\n",
       "      <td>FabHomeDecor Fabric Double Sofa Bed</td>\n",
       "      <td>[\"Furniture &gt;&gt; Living Room Furniture &gt;&gt; Sofa B...</td>\n",
       "      <td>SBEEH3QGU7MFYJFY</td>\n",
       "      <td>FabHomeDecor Fabric Double Sofa Bed Finish Col...</td>\n",
       "      <td>FabHomeDecor</td>\n",
       "      <td>{\"product_specification\"=&gt;[{\"key\"=&gt;\"Installati...</td>\n",
       "      <td>Furniture</td>\n",
       "    </tr>\n",
       "    <tr>\n",
       "      <td>2</td>\n",
       "      <td>AW Bellies</td>\n",
       "      <td>[\"Footwear &gt;&gt; Women's Footwear &gt;&gt; Ballerinas &gt;...</td>\n",
       "      <td>SHOEH4GRSUBJGZXE</td>\n",
       "      <td>Key Features of AW Bellies Sandals Wedges Heel...</td>\n",
       "      <td>AW</td>\n",
       "      <td>{\"product_specification\"=&gt;[{\"key\"=&gt;\"Ideal For\"...</td>\n",
       "      <td>Footwear</td>\n",
       "    </tr>\n",
       "    <tr>\n",
       "      <td>3</td>\n",
       "      <td>Alisha Solid Women's Cycling Shorts</td>\n",
       "      <td>[\"Clothing &gt;&gt; Women's Clothing &gt;&gt; Lingerie, Sl...</td>\n",
       "      <td>SRTEH2F6HUZMQ6SJ</td>\n",
       "      <td>Key Features of Alisha Solid Womens Cycling Sh...</td>\n",
       "      <td>Alisha</td>\n",
       "      <td>{\"product_specification\"=&gt;[{\"key\"=&gt;\"Number of ...</td>\n",
       "      <td>Clothing</td>\n",
       "    </tr>\n",
       "    <tr>\n",
       "      <td>4</td>\n",
       "      <td>Sicons All Purpose Arnica Dog Shampoo</td>\n",
       "      <td>[\"Pet Supplies &gt;&gt; Grooming &gt;&gt; Skin &amp; Coat Care...</td>\n",
       "      <td>PSOEH3ZYDMSYARJ5</td>\n",
       "      <td>Specifications of Sicons All Purpose Arnica Do...</td>\n",
       "      <td>Sicons</td>\n",
       "      <td>{\"product_specification\"=&gt;[{\"key\"=&gt;\"Pet Type\",...</td>\n",
       "      <td>Pet Supplies</td>\n",
       "    </tr>\n",
       "  </tbody>\n",
       "</table>\n",
       "</div>"
      ],
      "text/plain": [
       "                            product_name  \\\n",
       "0    Alisha Solid Women's Cycling Shorts   \n",
       "1    FabHomeDecor Fabric Double Sofa Bed   \n",
       "2                             AW Bellies   \n",
       "3    Alisha Solid Women's Cycling Shorts   \n",
       "4  Sicons All Purpose Arnica Dog Shampoo   \n",
       "\n",
       "                               product_category_tree               pid  \\\n",
       "0  [\"Clothing >> Women's Clothing >> Lingerie, Sl...  SRTEH2FF9KEDEFGF   \n",
       "1  [\"Furniture >> Living Room Furniture >> Sofa B...  SBEEH3QGU7MFYJFY   \n",
       "2  [\"Footwear >> Women's Footwear >> Ballerinas >...  SHOEH4GRSUBJGZXE   \n",
       "3  [\"Clothing >> Women's Clothing >> Lingerie, Sl...  SRTEH2F6HUZMQ6SJ   \n",
       "4  [\"Pet Supplies >> Grooming >> Skin & Coat Care...  PSOEH3ZYDMSYARJ5   \n",
       "\n",
       "                                         description         brand  \\\n",
       "0  Key Features of Alisha Solid Womens Cycling Sh...        Alisha   \n",
       "1  FabHomeDecor Fabric Double Sofa Bed Finish Col...  FabHomeDecor   \n",
       "2  Key Features of AW Bellies Sandals Wedges Heel...            AW   \n",
       "3  Key Features of Alisha Solid Womens Cycling Sh...        Alisha   \n",
       "4  Specifications of Sicons All Purpose Arnica Do...        Sicons   \n",
       "\n",
       "                              product_specifications      Category  \n",
       "0  {\"product_specification\"=>[{\"key\"=>\"Number of ...      Clothing  \n",
       "1  {\"product_specification\"=>[{\"key\"=>\"Installati...     Furniture  \n",
       "2  {\"product_specification\"=>[{\"key\"=>\"Ideal For\"...      Footwear  \n",
       "3  {\"product_specification\"=>[{\"key\"=>\"Number of ...      Clothing  \n",
       "4  {\"product_specification\"=>[{\"key\"=>\"Pet Type\",...  Pet Supplies  "
      ]
     },
     "execution_count": 65,
     "metadata": {},
     "output_type": "execute_result"
    }
   ],
   "source": [
    "#1. Removing punctuation\n",
    "\n",
    "import string\n",
    "\n",
    "def remove_punct(text : str) -> str :\n",
    "    text_nopunct = \"\".join([char for char in text if char not in string.punctuation])# It will discard all punctuations\n",
    "    return text_nopunct\n",
    "\n",
    "df['cleaned_description'] = df['description'].apply(lambda x : remove_punct(x))\n",
    "\n",
    "df.head()"
   ]
  },
  {
   "cell_type": "code",
   "execution_count": 68,
   "metadata": {},
   "outputs": [
    {
     "data": {
      "text/html": [
       "<div>\n",
       "<style scoped>\n",
       "    .dataframe tbody tr th:only-of-type {\n",
       "        vertical-align: middle;\n",
       "    }\n",
       "\n",
       "    .dataframe tbody tr th {\n",
       "        vertical-align: top;\n",
       "    }\n",
       "\n",
       "    .dataframe thead th {\n",
       "        text-align: right;\n",
       "    }\n",
       "</style>\n",
       "<table border=\"1\" class=\"dataframe\">\n",
       "  <thead>\n",
       "    <tr style=\"text-align: right;\">\n",
       "      <th></th>\n",
       "      <th>product_name</th>\n",
       "      <th>product_category_tree</th>\n",
       "      <th>pid</th>\n",
       "      <th>description</th>\n",
       "      <th>brand</th>\n",
       "      <th>product_specifications</th>\n",
       "      <th>Category</th>\n",
       "    </tr>\n",
       "  </thead>\n",
       "  <tbody>\n",
       "    <tr>\n",
       "      <td>0</td>\n",
       "      <td>Alisha Solid Women's Cycling Shorts</td>\n",
       "      <td>[\"Clothing &gt;&gt; Women's Clothing &gt;&gt; Lingerie, Sl...</td>\n",
       "      <td>SRTEH2FF9KEDEFGF</td>\n",
       "      <td>[key, features, of, alisha, solid, womens, cyc...</td>\n",
       "      <td>Alisha</td>\n",
       "      <td>{\"product_specification\"=&gt;[{\"key\"=&gt;\"Number of ...</td>\n",
       "      <td>Clothing</td>\n",
       "    </tr>\n",
       "    <tr>\n",
       "      <td>1</td>\n",
       "      <td>FabHomeDecor Fabric Double Sofa Bed</td>\n",
       "      <td>[\"Furniture &gt;&gt; Living Room Furniture &gt;&gt; Sofa B...</td>\n",
       "      <td>SBEEH3QGU7MFYJFY</td>\n",
       "      <td>[fabhomedecor, fabric, double, sofa, bed, fini...</td>\n",
       "      <td>FabHomeDecor</td>\n",
       "      <td>{\"product_specification\"=&gt;[{\"key\"=&gt;\"Installati...</td>\n",
       "      <td>Furniture</td>\n",
       "    </tr>\n",
       "    <tr>\n",
       "      <td>2</td>\n",
       "      <td>AW Bellies</td>\n",
       "      <td>[\"Footwear &gt;&gt; Women's Footwear &gt;&gt; Ballerinas &gt;...</td>\n",
       "      <td>SHOEH4GRSUBJGZXE</td>\n",
       "      <td>[key, features, of, aw, bellies, sandals, wedg...</td>\n",
       "      <td>AW</td>\n",
       "      <td>{\"product_specification\"=&gt;[{\"key\"=&gt;\"Ideal For\"...</td>\n",
       "      <td>Footwear</td>\n",
       "    </tr>\n",
       "    <tr>\n",
       "      <td>3</td>\n",
       "      <td>Alisha Solid Women's Cycling Shorts</td>\n",
       "      <td>[\"Clothing &gt;&gt; Women's Clothing &gt;&gt; Lingerie, Sl...</td>\n",
       "      <td>SRTEH2F6HUZMQ6SJ</td>\n",
       "      <td>[key, features, of, alisha, solid, womens, cyc...</td>\n",
       "      <td>Alisha</td>\n",
       "      <td>{\"product_specification\"=&gt;[{\"key\"=&gt;\"Number of ...</td>\n",
       "      <td>Clothing</td>\n",
       "    </tr>\n",
       "    <tr>\n",
       "      <td>4</td>\n",
       "      <td>Sicons All Purpose Arnica Dog Shampoo</td>\n",
       "      <td>[\"Pet Supplies &gt;&gt; Grooming &gt;&gt; Skin &amp; Coat Care...</td>\n",
       "      <td>PSOEH3ZYDMSYARJ5</td>\n",
       "      <td>[specifications, of, sicons, all, purpose, arn...</td>\n",
       "      <td>Sicons</td>\n",
       "      <td>{\"product_specification\"=&gt;[{\"key\"=&gt;\"Pet Type\",...</td>\n",
       "      <td>Pet Supplies</td>\n",
       "    </tr>\n",
       "  </tbody>\n",
       "</table>\n",
       "</div>"
      ],
      "text/plain": [
       "                            product_name  \\\n",
       "0    Alisha Solid Women's Cycling Shorts   \n",
       "1    FabHomeDecor Fabric Double Sofa Bed   \n",
       "2                             AW Bellies   \n",
       "3    Alisha Solid Women's Cycling Shorts   \n",
       "4  Sicons All Purpose Arnica Dog Shampoo   \n",
       "\n",
       "                               product_category_tree               pid  \\\n",
       "0  [\"Clothing >> Women's Clothing >> Lingerie, Sl...  SRTEH2FF9KEDEFGF   \n",
       "1  [\"Furniture >> Living Room Furniture >> Sofa B...  SBEEH3QGU7MFYJFY   \n",
       "2  [\"Footwear >> Women's Footwear >> Ballerinas >...  SHOEH4GRSUBJGZXE   \n",
       "3  [\"Clothing >> Women's Clothing >> Lingerie, Sl...  SRTEH2F6HUZMQ6SJ   \n",
       "4  [\"Pet Supplies >> Grooming >> Skin & Coat Care...  PSOEH3ZYDMSYARJ5   \n",
       "\n",
       "                                         description         brand  \\\n",
       "0  [key, features, of, alisha, solid, womens, cyc...        Alisha   \n",
       "1  [fabhomedecor, fabric, double, sofa, bed, fini...  FabHomeDecor   \n",
       "2  [key, features, of, aw, bellies, sandals, wedg...            AW   \n",
       "3  [key, features, of, alisha, solid, womens, cyc...        Alisha   \n",
       "4  [specifications, of, sicons, all, purpose, arn...        Sicons   \n",
       "\n",
       "                              product_specifications      Category  \n",
       "0  {\"product_specification\"=>[{\"key\"=>\"Number of ...      Clothing  \n",
       "1  {\"product_specification\"=>[{\"key\"=>\"Installati...     Furniture  \n",
       "2  {\"product_specification\"=>[{\"key\"=>\"Ideal For\"...      Footwear  \n",
       "3  {\"product_specification\"=>[{\"key\"=>\"Number of ...      Clothing  \n",
       "4  {\"product_specification\"=>[{\"key\"=>\"Pet Type\",...  Pet Supplies  "
      ]
     },
     "execution_count": 68,
     "metadata": {},
     "output_type": "execute_result"
    }
   ],
   "source": [
    "#2. Tokenization\n",
    "\n",
    "import re\n",
    "\n",
    "def tokenize(text : str) -> [str]:\n",
    "    tokens = re.split('\\W+', text)\n",
    "    return tokens\n",
    "\n",
    "df['cleaned_description'] = df['description'].apply(lambda x : tokenize(x.lower())) \n",
    "\n",
    "df.head()"
   ]
  },
  {
   "cell_type": "code",
   "execution_count": 70,
   "metadata": {},
   "outputs": [
    {
     "data": {
      "text/html": [
       "<div>\n",
       "<style scoped>\n",
       "    .dataframe tbody tr th:only-of-type {\n",
       "        vertical-align: middle;\n",
       "    }\n",
       "\n",
       "    .dataframe tbody tr th {\n",
       "        vertical-align: top;\n",
       "    }\n",
       "\n",
       "    .dataframe thead th {\n",
       "        text-align: right;\n",
       "    }\n",
       "</style>\n",
       "<table border=\"1\" class=\"dataframe\">\n",
       "  <thead>\n",
       "    <tr style=\"text-align: right;\">\n",
       "      <th></th>\n",
       "      <th>product_name</th>\n",
       "      <th>product_category_tree</th>\n",
       "      <th>pid</th>\n",
       "      <th>description</th>\n",
       "      <th>brand</th>\n",
       "      <th>product_specifications</th>\n",
       "      <th>Category</th>\n",
       "    </tr>\n",
       "  </thead>\n",
       "  <tbody>\n",
       "    <tr>\n",
       "      <td>0</td>\n",
       "      <td>Alisha Solid Women's Cycling Shorts</td>\n",
       "      <td>[\"Clothing &gt;&gt; Women's Clothing &gt;&gt; Lingerie, Sl...</td>\n",
       "      <td>SRTEH2FF9KEDEFGF</td>\n",
       "      <td>[key, features, alisha, solid, womens, cycling...</td>\n",
       "      <td>Alisha</td>\n",
       "      <td>{\"product_specification\"=&gt;[{\"key\"=&gt;\"Number of ...</td>\n",
       "      <td>Clothing</td>\n",
       "    </tr>\n",
       "    <tr>\n",
       "      <td>1</td>\n",
       "      <td>FabHomeDecor Fabric Double Sofa Bed</td>\n",
       "      <td>[\"Furniture &gt;&gt; Living Room Furniture &gt;&gt; Sofa B...</td>\n",
       "      <td>SBEEH3QGU7MFYJFY</td>\n",
       "      <td>[fabhomedecor, fabric, double, sofa, bed, fini...</td>\n",
       "      <td>FabHomeDecor</td>\n",
       "      <td>{\"product_specification\"=&gt;[{\"key\"=&gt;\"Installati...</td>\n",
       "      <td>Furniture</td>\n",
       "    </tr>\n",
       "    <tr>\n",
       "      <td>2</td>\n",
       "      <td>AW Bellies</td>\n",
       "      <td>[\"Footwear &gt;&gt; Women's Footwear &gt;&gt; Ballerinas &gt;...</td>\n",
       "      <td>SHOEH4GRSUBJGZXE</td>\n",
       "      <td>[key, features, aw, bellies, sandals, wedges, ...</td>\n",
       "      <td>AW</td>\n",
       "      <td>{\"product_specification\"=&gt;[{\"key\"=&gt;\"Ideal For\"...</td>\n",
       "      <td>Footwear</td>\n",
       "    </tr>\n",
       "    <tr>\n",
       "      <td>3</td>\n",
       "      <td>Alisha Solid Women's Cycling Shorts</td>\n",
       "      <td>[\"Clothing &gt;&gt; Women's Clothing &gt;&gt; Lingerie, Sl...</td>\n",
       "      <td>SRTEH2F6HUZMQ6SJ</td>\n",
       "      <td>[key, features, alisha, solid, womens, cycling...</td>\n",
       "      <td>Alisha</td>\n",
       "      <td>{\"product_specification\"=&gt;[{\"key\"=&gt;\"Number of ...</td>\n",
       "      <td>Clothing</td>\n",
       "    </tr>\n",
       "    <tr>\n",
       "      <td>4</td>\n",
       "      <td>Sicons All Purpose Arnica Dog Shampoo</td>\n",
       "      <td>[\"Pet Supplies &gt;&gt; Grooming &gt;&gt; Skin &amp; Coat Care...</td>\n",
       "      <td>PSOEH3ZYDMSYARJ5</td>\n",
       "      <td>[specifications, sicons, purpose, arnica, dog,...</td>\n",
       "      <td>Sicons</td>\n",
       "      <td>{\"product_specification\"=&gt;[{\"key\"=&gt;\"Pet Type\",...</td>\n",
       "      <td>Pet Supplies</td>\n",
       "    </tr>\n",
       "  </tbody>\n",
       "</table>\n",
       "</div>"
      ],
      "text/plain": [
       "                            product_name  \\\n",
       "0    Alisha Solid Women's Cycling Shorts   \n",
       "1    FabHomeDecor Fabric Double Sofa Bed   \n",
       "2                             AW Bellies   \n",
       "3    Alisha Solid Women's Cycling Shorts   \n",
       "4  Sicons All Purpose Arnica Dog Shampoo   \n",
       "\n",
       "                               product_category_tree               pid  \\\n",
       "0  [\"Clothing >> Women's Clothing >> Lingerie, Sl...  SRTEH2FF9KEDEFGF   \n",
       "1  [\"Furniture >> Living Room Furniture >> Sofa B...  SBEEH3QGU7MFYJFY   \n",
       "2  [\"Footwear >> Women's Footwear >> Ballerinas >...  SHOEH4GRSUBJGZXE   \n",
       "3  [\"Clothing >> Women's Clothing >> Lingerie, Sl...  SRTEH2F6HUZMQ6SJ   \n",
       "4  [\"Pet Supplies >> Grooming >> Skin & Coat Care...  PSOEH3ZYDMSYARJ5   \n",
       "\n",
       "                                         description         brand  \\\n",
       "0  [key, features, alisha, solid, womens, cycling...        Alisha   \n",
       "1  [fabhomedecor, fabric, double, sofa, bed, fini...  FabHomeDecor   \n",
       "2  [key, features, aw, bellies, sandals, wedges, ...            AW   \n",
       "3  [key, features, alisha, solid, womens, cycling...        Alisha   \n",
       "4  [specifications, sicons, purpose, arnica, dog,...        Sicons   \n",
       "\n",
       "                              product_specifications      Category  \n",
       "0  {\"product_specification\"=>[{\"key\"=>\"Number of ...      Clothing  \n",
       "1  {\"product_specification\"=>[{\"key\"=>\"Installati...     Furniture  \n",
       "2  {\"product_specification\"=>[{\"key\"=>\"Ideal For\"...      Footwear  \n",
       "3  {\"product_specification\"=>[{\"key\"=>\"Number of ...      Clothing  \n",
       "4  {\"product_specification\"=>[{\"key\"=>\"Pet Type\",...  Pet Supplies  "
      ]
     },
     "execution_count": 70,
     "metadata": {},
     "output_type": "execute_result"
    }
   ],
   "source": [
    "#3. Removing Stopwords\n",
    "\n",
    "# All English Stopwords\n",
    "stopword = nltk.corpus.stopwords.words('english')\n",
    "\n",
    "def remove_stopwords(tokenized_list):\n",
    "    text = [word for word in tokenized_list if word not in stopword]# To remove all stopwords\n",
    "    return text\n",
    "\n",
    "df['cleaned_description'] = df['description'].apply(lambda x : remove_stopwords(x))\n",
    "\n",
    "df.head()"
   ]
  },
  {
   "cell_type": "code",
   "execution_count": 71,
   "metadata": {},
   "outputs": [
    {
     "data": {
      "text/html": [
       "<div>\n",
       "<style scoped>\n",
       "    .dataframe tbody tr th:only-of-type {\n",
       "        vertical-align: middle;\n",
       "    }\n",
       "\n",
       "    .dataframe tbody tr th {\n",
       "        vertical-align: top;\n",
       "    }\n",
       "\n",
       "    .dataframe thead th {\n",
       "        text-align: right;\n",
       "    }\n",
       "</style>\n",
       "<table border=\"1\" class=\"dataframe\">\n",
       "  <thead>\n",
       "    <tr style=\"text-align: right;\">\n",
       "      <th></th>\n",
       "      <th>product_name</th>\n",
       "      <th>product_category_tree</th>\n",
       "      <th>pid</th>\n",
       "      <th>description</th>\n",
       "      <th>brand</th>\n",
       "      <th>product_specifications</th>\n",
       "      <th>Category</th>\n",
       "    </tr>\n",
       "  </thead>\n",
       "  <tbody>\n",
       "    <tr>\n",
       "      <td>0</td>\n",
       "      <td>Alisha Solid Women's Cycling Shorts</td>\n",
       "      <td>[\"Clothing &gt;&gt; Women's Clothing &gt;&gt; Lingerie, Sl...</td>\n",
       "      <td>SRTEH2FF9KEDEFGF</td>\n",
       "      <td>[key, feature, alisha, solid, woman, cycling, ...</td>\n",
       "      <td>Alisha</td>\n",
       "      <td>{\"product_specification\"=&gt;[{\"key\"=&gt;\"Number of ...</td>\n",
       "      <td>Clothing</td>\n",
       "    </tr>\n",
       "    <tr>\n",
       "      <td>1</td>\n",
       "      <td>FabHomeDecor Fabric Double Sofa Bed</td>\n",
       "      <td>[\"Furniture &gt;&gt; Living Room Furniture &gt;&gt; Sofa B...</td>\n",
       "      <td>SBEEH3QGU7MFYJFY</td>\n",
       "      <td>[fabhomedecor, fabric, double, sofa, bed, fini...</td>\n",
       "      <td>FabHomeDecor</td>\n",
       "      <td>{\"product_specification\"=&gt;[{\"key\"=&gt;\"Installati...</td>\n",
       "      <td>Furniture</td>\n",
       "    </tr>\n",
       "    <tr>\n",
       "      <td>2</td>\n",
       "      <td>AW Bellies</td>\n",
       "      <td>[\"Footwear &gt;&gt; Women's Footwear &gt;&gt; Ballerinas &gt;...</td>\n",
       "      <td>SHOEH4GRSUBJGZXE</td>\n",
       "      <td>[key, feature, aw, belly, sandal, wedge, heel,...</td>\n",
       "      <td>AW</td>\n",
       "      <td>{\"product_specification\"=&gt;[{\"key\"=&gt;\"Ideal For\"...</td>\n",
       "      <td>Footwear</td>\n",
       "    </tr>\n",
       "    <tr>\n",
       "      <td>3</td>\n",
       "      <td>Alisha Solid Women's Cycling Shorts</td>\n",
       "      <td>[\"Clothing &gt;&gt; Women's Clothing &gt;&gt; Lingerie, Sl...</td>\n",
       "      <td>SRTEH2F6HUZMQ6SJ</td>\n",
       "      <td>[key, feature, alisha, solid, woman, cycling, ...</td>\n",
       "      <td>Alisha</td>\n",
       "      <td>{\"product_specification\"=&gt;[{\"key\"=&gt;\"Number of ...</td>\n",
       "      <td>Clothing</td>\n",
       "    </tr>\n",
       "    <tr>\n",
       "      <td>4</td>\n",
       "      <td>Sicons All Purpose Arnica Dog Shampoo</td>\n",
       "      <td>[\"Pet Supplies &gt;&gt; Grooming &gt;&gt; Skin &amp; Coat Care...</td>\n",
       "      <td>PSOEH3ZYDMSYARJ5</td>\n",
       "      <td>[specification, sicons, purpose, arnica, dog, ...</td>\n",
       "      <td>Sicons</td>\n",
       "      <td>{\"product_specification\"=&gt;[{\"key\"=&gt;\"Pet Type\",...</td>\n",
       "      <td>Pet Supplies</td>\n",
       "    </tr>\n",
       "  </tbody>\n",
       "</table>\n",
       "</div>"
      ],
      "text/plain": [
       "                            product_name  \\\n",
       "0    Alisha Solid Women's Cycling Shorts   \n",
       "1    FabHomeDecor Fabric Double Sofa Bed   \n",
       "2                             AW Bellies   \n",
       "3    Alisha Solid Women's Cycling Shorts   \n",
       "4  Sicons All Purpose Arnica Dog Shampoo   \n",
       "\n",
       "                               product_category_tree               pid  \\\n",
       "0  [\"Clothing >> Women's Clothing >> Lingerie, Sl...  SRTEH2FF9KEDEFGF   \n",
       "1  [\"Furniture >> Living Room Furniture >> Sofa B...  SBEEH3QGU7MFYJFY   \n",
       "2  [\"Footwear >> Women's Footwear >> Ballerinas >...  SHOEH4GRSUBJGZXE   \n",
       "3  [\"Clothing >> Women's Clothing >> Lingerie, Sl...  SRTEH2F6HUZMQ6SJ   \n",
       "4  [\"Pet Supplies >> Grooming >> Skin & Coat Care...  PSOEH3ZYDMSYARJ5   \n",
       "\n",
       "                                         description         brand  \\\n",
       "0  [key, feature, alisha, solid, woman, cycling, ...        Alisha   \n",
       "1  [fabhomedecor, fabric, double, sofa, bed, fini...  FabHomeDecor   \n",
       "2  [key, feature, aw, belly, sandal, wedge, heel,...            AW   \n",
       "3  [key, feature, alisha, solid, woman, cycling, ...        Alisha   \n",
       "4  [specification, sicons, purpose, arnica, dog, ...        Sicons   \n",
       "\n",
       "                              product_specifications      Category  \n",
       "0  {\"product_specification\"=>[{\"key\"=>\"Number of ...      Clothing  \n",
       "1  {\"product_specification\"=>[{\"key\"=>\"Installati...     Furniture  \n",
       "2  {\"product_specification\"=>[{\"key\"=>\"Ideal For\"...      Footwear  \n",
       "3  {\"product_specification\"=>[{\"key\"=>\"Number of ...      Clothing  \n",
       "4  {\"product_specification\"=>[{\"key\"=>\"Pet Type\",...  Pet Supplies  "
      ]
     },
     "execution_count": 71,
     "metadata": {},
     "output_type": "execute_result"
    }
   ],
   "source": [
    "#4. Preprocessing Data: Using a Lemmatizer\n",
    "\n",
    "wn = nltk.WordNetLemmatizer()\n",
    "\n",
    "def lemmatizing(tokenized_text):\n",
    "    text = [wn.lemmatize(word) for word in tokenized_text]\n",
    "    return text\n",
    "\n",
    "df['cleaned_description'] = df['description'].apply(lambda x : lemmatizing(x))\n",
    "\n",
    "df.head()"
   ]
  },
  {
   "cell_type": "code",
   "execution_count": null,
   "metadata": {},
   "outputs": [],
   "source": [
    "#5. Saving the cleaned data\n",
    "\n",
    "data.to_csv(\"Flipkart_E-commerce_cleaned.csv\", sep = ',')"
   ]
  },
  {
   "cell_type": "code",
   "execution_count": 94,
   "metadata": {},
   "outputs": [],
   "source": [
    "from sklearn.model_selection import train_test_split\n",
    "from sklearn.feature_extraction.text import TfidfVectorizer, CountVectorizer\n",
    "from sklearn.metrics import classification_report, confusion_matrix\n",
    "from sklearn.metrics import plot_confusion_matrix\n",
    "from sklearn import metrics"
   ]
  },
  {
   "cell_type": "code",
   "execution_count": 90,
   "metadata": {},
   "outputs": [
    {
     "name": "stdout",
     "output_type": "stream",
     "text": [
      "(19998, 103)\n"
     ]
    }
   ],
   "source": [
    "#TF-IDF - Applying the Vectorizer\n",
    "\n",
    "def clean_text(text : str) -> str :\n",
    "    text = \"\".join([word.lower() for word in text if word not in string.punctuation])\n",
    "    return text\n",
    "\n",
    "tfidf_vect = TfidfVectorizer(analyzer = clean_text)\n",
    "X_tfidf = tfidf_vect.fit_transform(df['description'])\n",
    "\n",
    "print(X_tfidf.shape)\n",
    "print(tfidf_vect.get_feature_names())"
   ]
  },
  {
   "cell_type": "code",
   "execution_count": 118,
   "metadata": {},
   "outputs": [],
   "source": [
    "#Splitting the data into testing and training sets\n",
    "'''\n",
    "Using the train_test_split function present in sklearn library, the given dataset is split into training and testing data.\n",
    "70% of the dataset is kept for training and the rest of the 30% data is used as the test set\n",
    "'''\n",
    "\n",
    "training_data, testing_data = train_test_split(df, test_size = 0.30, random_state = 2000)\n",
    "\n",
    "X_train = tfidf_vect.transform(training_data['description'].values)\n",
    "X_test = tfidf_vect.transform(testing_data['description'].values)\n",
    "\n",
    "Y_train = training_data['Category'].values\n",
    "Y_test = testing_data['Category'].values"
   ]
  },
  {
   "cell_type": "code",
   "execution_count": 119,
   "metadata": {},
   "outputs": [
    {
     "name": "stdout",
     "output_type": "stream",
     "text": [
      "Accuracy 0.8405\n"
     ]
    }
   ],
   "source": [
    "#K-Nearest Neighbour\n",
    "\n",
    "from sklearn.neighbors import KNeighborsClassifier\n",
    "\n",
    "neigh = KNeighborsClassifier(n_neighbors = 4)\n",
    "\n",
    "knn_model = neigh.fit(X_train, Y_train)\n",
    "\n",
    "y_pred = knn_model.predict(X_test)\n",
    "\n",
    "accuracy = metrics.accuracy_score(Y_test, y_pred)\n",
    "print(\"Accuracy\", accuracy)"
   ]
  },
  {
   "cell_type": "code",
   "execution_count": 117,
   "metadata": {},
   "outputs": [
    {
     "name": "stderr",
     "output_type": "stream",
     "text": [
      "C:\\Users\\Malaika Agrawal\\Anaconda3\\lib\\site-packages\\sklearn\\linear_model\\sag.py:337: ConvergenceWarning: The max_iter was reached which means the coef_ did not converge\n",
      "  \"the coef_ did not converge\", ConvergenceWarning)\n"
     ]
    },
    {
     "name": "stdout",
     "output_type": "stream",
     "text": [
      "\n",
      "Accuracy 0.6571666666666667\n"
     ]
    }
   ],
   "source": [
    "#Logistic Regression\n",
    "\n",
    "from sklearn.linear_model import LogisticRegression\n",
    "\n",
    "scikit_log_reg = LogisticRegression(solver = 'sag', random_state = 0, C = 5, max_iter = 1000, multi_class = 'ovr')\n",
    "\n",
    "logistic_model = scikit_log_reg.fit(X_train, Y_train)\n",
    "\n",
    "y_pred = logistic_model.predict(X_test)\n",
    "\n",
    "accuracy = metrics.accuracy_score(Y_test, y_pred)\n",
    "print(\"Accuracy\", accuracy)"
   ]
  },
  {
   "cell_type": "code",
   "execution_count": 131,
   "metadata": {},
   "outputs": [
    {
     "name": "stderr",
     "output_type": "stream",
     "text": [
      "C:\\Users\\Malaika Agrawal\\Anaconda3\\lib\\site-packages\\sklearn\\svm\\base.py:193: FutureWarning: The default value of gamma will change from 'auto' to 'scale' in version 0.22 to account better for unscaled features. Set gamma explicitly to 'auto' or 'scale' to avoid this warning.\n",
      "  \"avoid this warning.\", FutureWarning)\n"
     ]
    },
    {
     "name": "stdout",
     "output_type": "stream",
     "text": [
      "Accuracy 0.4175\n"
     ]
    }
   ],
   "source": [
    "#SVM\n",
    "\n",
    "from sklearn import svm\n",
    "\n",
    "clf = svm.SVC()\n",
    "svm_model = clf.fit(X_train, Y_train)\n",
    "\n",
    "y_pred = svm_model.predict(X_test)\n",
    "\n",
    "accuracy = metrics.accuracy_score(Y_test, y_pred)\n",
    "print(\"Accuracy\", accuracy)"
   ]
  },
  {
   "cell_type": "code",
   "execution_count": 113,
   "metadata": {},
   "outputs": [
    {
     "name": "stdout",
     "output_type": "stream",
     "text": [
      "\n",
      "Accuracy 0.41333333333333333\n"
     ]
    }
   ],
   "source": [
    "#Decision Trees\n",
    "\n",
    "from sklearn.tree import DecisionTreeClassifier\n",
    "\n",
    "decision_tree = DecisionTreeClassifier(random_state = 0, max_depth = 3)\n",
    "\n",
    "decision_tree_model = decision_tree.fit(X_train, Y_train)\n",
    "\n",
    "y_pred = decision_tree_model.predict(X_test)\n",
    "\n",
    "accuracy = metrics.accuracy_score(Y_test, y_pred)\n",
    "print(\"Accuracy\", accuracy)"
   ]
  },
  {
   "cell_type": "code",
   "execution_count": 128,
   "metadata": {},
   "outputs": [],
   "source": [
    "#Result Visualization\n",
    "\n",
    "def plot_result(model, X_test_Y_test) : \n",
    "    plot_confusion_matrix(model, X_test, Y_test)  \n",
    "    plt.show()"
   ]
  },
  {
   "cell_type": "code",
   "execution_count": 134,
   "metadata": {},
   "outputs": [
    {
     "data": {
      "text/plain": [
       "Index(['product_name', 'product_category_tree', 'pid', 'description', 'brand',\n",
       "       'product_specifications', 'Category'],\n",
       "      dtype='object')"
      ]
     },
     "execution_count": 134,
     "metadata": {},
     "output_type": "execute_result"
    }
   ],
   "source": [
    "df.columns"
   ]
  },
  {
   "cell_type": "code",
   "execution_count": 151,
   "metadata": {},
   "outputs": [
    {
     "data": {
      "text/plain": [
       "Allure Auto        469\n",
       "Regular            313\n",
       "Voylla             299\n",
       "Slim               288\n",
       "TheLostPuppy       229\n",
       "                  ... \n",
       "Besto                1\n",
       "Tradeyard impex      1\n",
       "Pure Source          1\n",
       "Sixthsense           1\n",
       "Zari Boxes           1\n",
       "Name: brand, Length: 3499, dtype: int64"
      ]
     },
     "execution_count": 151,
     "metadata": {},
     "output_type": "execute_result"
    }
   ],
   "source": [
    "#Finding out whether brand attribute can be used to determine the category of a product\n",
    "\n",
    "df['brand'].value_counts()"
   ]
  },
  {
   "cell_type": "code",
   "execution_count": 158,
   "metadata": {},
   "outputs": [
    {
     "data": {
      "image/png": "[encoded data removed]",
      "text/plain": [
       "<Figure size 432x288 with 1 Axes>"
      ]
     },
     "metadata": {
      "needs_background": "light"
     },
     "output_type": "display_data"
    }
   ],
   "source": [
    "#Finding the category of all data points corresponding to a particular brand\n",
    "\n",
    "categories_by_brand = df['Category'][df['brand'] == 'Allure Auto']\n",
    "labels, values = zip(*Counter(categories_by_brand).items())\n",
    "\n",
    "indexes = np.arange(len(labels))\n",
    "\n",
    "plt.bar(indexes, values)\n",
    "plt.show()\n",
    "\n",
    "'''\n",
    "We can see that all the data points of a particular brand point to the same category.\n",
    "Hence, brand can be used to determine the category.\n",
    "But there are a large number of null values for the brand attribute, so it cannot be taken as the primary attribute.\n",
    "'''"
   ]
  },
  {
   "cell_type": "code",
   "execution_count": null,
   "metadata": {},
   "outputs": [],
   "source": []
  }
 ],
 "metadata": {
  "kernelspec": {
   "display_name": "Python 3",
   "language": "python",
   "name": "python3"
  },
  "language_info": {
   "codemirror_mode": {
    "name": "ipython",
    "version": 3
   },
   "file_extension": ".py",
   "mimetype": "text/x-python",
   "name": "python",
   "nbconvert_exporter": "python",
   "pygments_lexer": "ipython3",
   "version": "3.7.4"
  }
 },
 "nbformat": 4,
 "nbformat_minor": 2
}
